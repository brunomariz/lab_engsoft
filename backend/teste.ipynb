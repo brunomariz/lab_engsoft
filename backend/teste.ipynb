{
 "cells": [
  {
   "cell_type": "code",
   "execution_count": 1,
   "metadata": {},
   "outputs": [],
   "source": [
    "from app.services._base import BaseService\n",
    "import pydantic\n",
    "\n",
    "class ClientService(BaseService):\n",
    "    def __init__(self) -> None:\n",
    "        super().__init__()\n",
    "\n",
    "    def list_clientes(self):\n",
    "        return {\"method\": \"example additional method\"}\n",
    "\n",
    "\n"
   ]
  }
 ],
 "metadata": {
  "kernelspec": {
   "display_name": "Python 3.10.5 64-bit (windows store)",
   "language": "python",
   "name": "python3"
  },
  "language_info": {
   "codemirror_mode": {
    "name": "ipython",
    "version": 3
   },
   "file_extension": ".py",
   "mimetype": "text/x-python",
   "name": "python",
   "nbconvert_exporter": "python",
   "pygments_lexer": "ipython3",
   "version": "3.10.5"
  },
  "orig_nbformat": 4,
  "vscode": {
   "interpreter": {
    "hash": "7ddf36f4e055dc44e5decc2aff9f754ff05796dbb935e7202ebe83552d829846"
   }
  }
 },
 "nbformat": 4,
 "nbformat_minor": 2
}
